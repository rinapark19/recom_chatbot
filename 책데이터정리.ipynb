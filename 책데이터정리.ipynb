{
  "nbformat": 4,
  "nbformat_minor": 0,
  "metadata": {
    "colab": {
      "provenance": []
    },
    "kernelspec": {
      "name": "python3",
      "display_name": "Python 3"
    },
    "language_info": {
      "name": "python"
    }
  },
  "cells": [
    {
      "cell_type": "markdown",
      "source": [
        "**라이브러리, 데이터 가져오기**\n",
        "\n",
        "book: 2023년 공앤박 책 데이터\n",
        "\n",
        "kw: 2022년 키워드 추출했던 결과물"
      ],
      "metadata": {
        "id": "pgbuhcbId8KE"
      }
    },
    {
      "cell_type": "code",
      "execution_count": 1,
      "metadata": {
        "id": "WYnjvn6KbYjF"
      },
      "outputs": [],
      "source": [
        "import pandas as pd\n",
        "import json\n",
        "import re"
      ]
    },
    {
      "cell_type": "code",
      "source": [
        "book = pd.read_csv(\"/content/drive/MyDrive/SCM_books/book_info.csv\")"
      ],
      "metadata": {
        "colab": {
          "base_uri": "https://localhost:8080/"
        },
        "id": "BvVzE04qcRKt",
        "outputId": "e457f841-5a71-4603-c74a-6548da74db70"
      },
      "execution_count": 2,
      "outputs": [
        {
          "output_type": "stream",
          "name": "stderr",
          "text": [
            "<ipython-input-2-5fe2a9e5a0b8>:1: DtypeWarning: Columns (4) have mixed types. Specify dtype option on import or set low_memory=False.\n",
            "  book = pd.read_csv(\"/content/drive/MyDrive/SCM_books/book_info.csv\")\n"
          ]
        }
      ]
    },
    {
      "cell_type": "code",
      "source": [
        "kw = pd.read_csv(\"/content/drive/MyDrive/산학 공부/데이터/final_kw_new.csv\", encoding=\"cp949\")"
      ],
      "metadata": {
        "colab": {
          "base_uri": "https://localhost:8080/"
        },
        "id": "OChE-e5EdU0y",
        "outputId": "5a60090c-d00c-4c6c-ce86-fc3063eed197"
      },
      "execution_count": null,
      "outputs": [
        {
          "output_type": "stream",
          "name": "stderr",
          "text": [
            "<ipython-input-3-80b81240098b>:1: DtypeWarning: Columns (1) have mixed types. Specify dtype option on import or set low_memory=False.\n",
            "  kw = pd.read_csv(\"/content/drive/MyDrive/산학 공부/데이터/final_kw_new.csv\", encoding=\"cp949\")\n"
          ]
        }
      ]
    },
    {
      "cell_type": "code",
      "source": [
        "book = book[['isbn', 'title', 'author', 'introduction', 'category']]"
      ],
      "metadata": {
        "id": "HR0VBHLPdWco"
      },
      "execution_count": 3,
      "outputs": []
    },
    {
      "cell_type": "code",
      "source": [
        "kw = kw[['isbn', 'main_keywords']]"
      ],
      "metadata": {
        "id": "aMUzQy-vdZZq"
      },
      "execution_count": null,
      "outputs": []
    },
    {
      "cell_type": "markdown",
      "source": [
        "**책 데이터 카테고리 분리**"
      ],
      "metadata": {
        "id": "BJ6UvadceEL2"
      }
    },
    {
      "cell_type": "code",
      "source": [
        "def split_category_1(x):\n",
        "  x = str(x)\n",
        "  x_list = x.split(\" > \")\n",
        "  return x_list[0]\n",
        "\n",
        "def split_category_2(x):\n",
        "  x = str(x)\n",
        "  x_list = x.split(\" > \")\n",
        "  if len(x_list) > 1:\n",
        "    return x_list[1]\n",
        "  else:\n",
        "    return '없음'\n",
        "\n",
        "def split_category_3(x):\n",
        "  x = str(x)\n",
        "  x_list = x.split(\" > \")\n",
        "  if len(x_list) > 2:\n",
        "    return x_list[2]\n",
        "  else:\n",
        "    return '없음'\n",
        "\n",
        "def split_category_4(x):\n",
        "  x = str(x)\n",
        "  x_list = x.split(\" > \")\n",
        "  if len(x_list) > 3:\n",
        "    return x_list[3]\n",
        "  else:\n",
        "    return '없음'\n",
        "\n",
        "book['cat_1'] = book['category'].apply(split_category_1)\n",
        "book['cat_2'] = book['category'].apply(split_category_2)\n",
        "book['cat_3'] = book['category'].apply(split_category_3)\n",
        "book['cat_4'] = book['category'].apply(split_category_4)"
      ],
      "metadata": {
        "id": "D0cO-a89eHga"
      },
      "execution_count": 4,
      "outputs": []
    },
    {
      "cell_type": "code",
      "source": [
        "book.drop(['cat_1', 'cat_4'], axis = 1, inplace=True)"
      ],
      "metadata": {
        "id": "gAaUlgmCelSV"
      },
      "execution_count": 5,
      "outputs": []
    },
    {
      "cell_type": "markdown",
      "source": [
        "**책 데이터 전처리**"
      ],
      "metadata": {
        "id": "mSc3VnflzQAt"
      }
    },
    {
      "cell_type": "code",
      "source": [
        "# 제목에서 괄호 안에 있는 거 지우기\n",
        "def remove(x):\n",
        "  x = str(x)\n",
        "  x = re.sub(r'\\([^)]*\\)', '', x)\n",
        "  x = re.sub(r'\\[[^]]*\\)', '', x)\n",
        "  return x\n",
        "\n",
        "book['title'] = book['title'].apply(remove)"
      ],
      "metadata": {
        "id": "lKqOawA9evud"
      },
      "execution_count": 6,
      "outputs": []
    },
    {
      "cell_type": "code",
      "source": [
        "# introduction 개수 확인(578704)\n",
        "\n",
        "book[book['introduction'] != '없음'].count()"
      ],
      "metadata": {
        "colab": {
          "base_uri": "https://localhost:8080/"
        },
        "id": "kqHcXhA64UKl",
        "outputId": "682fe6df-fff6-424e-c6b0-a422b5571ca5"
      },
      "execution_count": 7,
      "outputs": [
        {
          "output_type": "execute_result",
          "data": {
            "text/plain": [
              "isbn            578704\n",
              "title           578704\n",
              "author          578704\n",
              "introduction    578704\n",
              "category        578704\n",
              "cat_2           578704\n",
              "cat_3           578704\n",
              "dtype: int64"
            ]
          },
          "metadata": {},
          "execution_count": 7
        }
      ]
    },
    {
      "cell_type": "code",
      "source": [
        "book = book[book['introduction'] != '없음']"
      ],
      "metadata": {
        "id": "d_222xsg4us4"
      },
      "execution_count": 7,
      "outputs": []
    },
    {
      "cell_type": "code",
      "source": [
        "# introduction 전처리\n",
        "def cleaning(x):\n",
        "  x = str(x)\n",
        "  pattern = r'[\\u4E00-\\u9FFF]+'\n",
        "  match = re.search(pattern, x)\n",
        "  if match:\n",
        "    return '없음'\n",
        "  else:\n",
        "    x = x.replace(\"<BR>\", \"\")\n",
        "    x = x.replace(\"<br>\", \"\")\n",
        "    x = x.replace(\"▶\", \"\")\n",
        "    x = x.replace(\"\\\\\", \"\")\n",
        "    return x\n",
        "\n",
        "book['introduction'] = book['introduction'].apply(cleaning)\n",
        "book = book[book['introduction'] != '없음']\n",
        "book.reset_index(drop=True, inplace=True)"
      ],
      "metadata": {
        "id": "ZMkfayGX8Vbg"
      },
      "execution_count": 8,
      "outputs": []
    },
    {
      "cell_type": "code",
      "source": [
        "# 책에 해당 안 되는 정보 드랍하기\n",
        "\n",
        "book = book[book['cat_2'] != '없음']\n",
        "book = book[book['cat_2'] != 'ebook용품']\n",
        "book = book[book['cat_2'] != '디지털용품']\n",
        "book = book[book['cat_2'] != '애니 굿즈']\n",
        "book = book[book['cat_2'] != '문구']\n",
        "book = book[book['cat_3'] != '없음']\n",
        "book = book[book['cat_3'] != '기타']\n",
        "book = book[book['cat_3'] != '없음']\n",
        "book = book[book['cat_3'] != '가방/파우치']\n",
        "book = book[book['cat_3'] != '문구세트']"
      ],
      "metadata": {
        "id": "HBhdOWjQB-tZ"
      },
      "execution_count": 9,
      "outputs": []
    },
    {
      "cell_type": "code",
      "source": [
        "book.reset_index(drop=True, inplace=True)"
      ],
      "metadata": {
        "id": "iTfOa8HqCmbM"
      },
      "execution_count": 10,
      "outputs": []
    },
    {
      "cell_type": "code",
      "source": [
        "cat_2 = book['cat_2']\n",
        "cat_list = cat_2.unique().tolist()\n",
        "\n",
        "cat_to_dict1 = []\n",
        "for cat in cat_list:\n",
        "  df = book[book['cat_2'] == cat]\n",
        "  df_dic = df[['title', 'cat_2', 'author', 'introduction']].to_dict(orient=\"records\")\n",
        "  catdict = {}\n",
        "  catdict['category'] = cat\n",
        "  catdict['book_list'] = df_dic\n",
        "  cat_to_dict1.append(catdict)"
      ],
      "metadata": {
        "id": "1cGOAtIX_kCu"
      },
      "execution_count": 11,
      "outputs": []
    },
    {
      "cell_type": "code",
      "source": [
        "cat_3 = book['cat_3']\n",
        "cat_list = cat_3.unique().tolist()\n",
        "\n",
        "cat_to_dict2 = []\n",
        "for cat in cat_list:\n",
        "  df = book[book['cat_3'] == cat]\n",
        "  df_dic = df[['title', 'cat_3', 'author', 'introduction']].to_dict(orient=\"records\")\n",
        "  catdict = {}\n",
        "  catdict['category'] = cat\n",
        "  catdict['book_list'] = df_dic\n",
        "  cat_to_dict2.append(catdict)"
      ],
      "metadata": {
        "id": "ihoWU0QTe_Hj"
      },
      "execution_count": 12,
      "outputs": []
    },
    {
      "cell_type": "code",
      "source": [
        "import random\n",
        "\n",
        "for dictionary in cat_to_dict1:\n",
        "  random.shuffle(dictionary['book_list'])\n",
        "  each_list = dictionary['book_list']\n",
        "\n",
        "  if len(each_list) > 50:\n",
        "    dictionary['book_list'] = each_list[:60]"
      ],
      "metadata": {
        "id": "sQMwYDZ_fbkr"
      },
      "execution_count": 13,
      "outputs": []
    },
    {
      "cell_type": "code",
      "source": [
        "for dictionary in cat_to_dict2:\n",
        "  random.shuffle(dictionary['book_list'])\n",
        "  each_list = dictionary['book_list']\n",
        "\n",
        "  if len(each_list) > 50:\n",
        "    dictionary['book_list'] = each_list[:60]"
      ],
      "metadata": {
        "id": "qk6BTlq8_rIN"
      },
      "execution_count": 14,
      "outputs": []
    },
    {
      "cell_type": "code",
      "source": [
        "#@title\n",
        "\n",
        "reduced_book_list = []\n",
        "for dictionary in cat_to_dict:\n",
        "  book_list = dictionary['book_list']\n",
        "  reduced_book_list.append(book_list)\n",
        "#@title\n",
        "df = pd.DataFrame(columns=['isbn', 'title', 'cat_3', 'author', 'introduction'])\n",
        "\n",
        "for cat in reduced_book_list:\n",
        "  cat_df = pd.DataFrame(cat)\n",
        "  df = pd.concat([df, cat_df], ignore_index=True)\n",
        "# #@title\n",
        "# final_df = pd.merge(df, kw, on='isbn', how='left')\n",
        "# #@title\n",
        "# final_df"
      ],
      "metadata": {
        "cellView": "form",
        "id": "3uCgyDp7fpNf"
      },
      "execution_count": null,
      "outputs": []
    },
    {
      "cell_type": "code",
      "source": [
        "def has_coda(word):\n",
        "    return (ord(word[-1]) - 44032) % 28 == 0"
      ],
      "metadata": {
        "id": "FTIaDI0-ZVvO"
      },
      "execution_count": 15,
      "outputs": []
    },
    {
      "cell_type": "code",
      "source": [
        "prompt_list = []\n",
        "ppo_list = []\n",
        "for dictionary in cat_to_dict1:\n",
        "  each_list = dictionary['book_list']\n",
        "  for book in each_list:\n",
        "    author = book['author']\n",
        "    title = book['title']\n",
        "    if author != '없음':\n",
        "      if has_coda(author) == False: # 받침 있는 경우\n",
        "        prompt = author + \"이 쓴 책 추천해 줘\"\n",
        "        completion = author + \"이 쓴 책으로는 \"\n",
        "        if has_coda(title) == False: # 책 제목에 받침\n",
        "          completion += title + \"을 추천합니다. \"\n",
        "        elif has_coda(title) == True:\n",
        "          completion += title + \"를 추천합니다. \"\n",
        "        completion += \"이 책은 \" + book['cat_2'] + \"에 관한 책입니다. \"\n",
        "        if book['introduction'] != \"없음\":\n",
        "          if has_coda(title) == False:\n",
        "            completion += title + \"은 \" + book['introduction'][:150] + \" 이러한 이유로 이 책을 추천합니다. \"\n",
        "          elif has_coda(title) == True:\n",
        "            completion += title + \"는 \" + book['introduction'][:150] + \" 이러한 이유로 이 책을 추천합니다. \"\n",
        "        completion += \"즐거운 독서 되세요!\"\n",
        "        prompt_dict = {}\n",
        "        prompt_dict['prompt'] = prompt\n",
        "        prompt_dict['completion'] = completion\n",
        "        prompt_list.append(prompt_dict)"
      ],
      "metadata": {
        "id": "uueyVKO-ZZSF"
      },
      "execution_count": 22,
      "outputs": []
    },
    {
      "cell_type": "code",
      "source": [
        "for dictionary in cat_to_dict2:\n",
        "  each_list = dictionary['book_list']\n",
        "  i = 0\n",
        "  prompt = \"\"\n",
        "  completion = \"\"\n",
        "  for book in each_list:\n",
        "    i = i + 1\n",
        "    if book['cat_3'] != \"없음\":\n",
        "      prompt = book['cat_3'] + \"에 대한 책 추천해 줘\"\n",
        "      completion += str(i) + \". \" + book['title'] + \". \"\n",
        "      author = book['author']\n",
        "      title = book['title']\n",
        "      intro = book['introduction']\n",
        "      if author != \"없음\":\n",
        "        if has_coda(title) == False:\n",
        "          completion += title + \"은 \"\n",
        "        elif has_coda(title) == True:\n",
        "          completion += title + \"는 \"\n",
        "        if has_coda(author) == False:\n",
        "          completion += author + \"이 쓴 책입니다. \"\n",
        "        elif has_coda(author) == True:\n",
        "          completion += author + \"가 쓴 책입니다. \"\n",
        "\n",
        "      if intro != \"없음\":\n",
        "        if has_coda(title) == False:\n",
        "          completion += title + \"은 \" + book['introduction'][:150] + \" \"\n",
        "        elif has_coda(title) == True:\n",
        "          completion += title + \"는 \" + book['introduction'][:150] + \" \"\n",
        "      if i == 3:\n",
        "        completion += \"이러한 책들을 추천합니다. 즐거운 독서 되세요!\"\n",
        "        break\n",
        "  prompt_dict = {}\n",
        "  prompt_dict['prompt'] = prompt\n",
        "  prompt_dict['completion'] = completion\n",
        "  prompt_list.append(prompt_dict)"
      ],
      "metadata": {
        "id": "OPtmCkbTbVxF"
      },
      "execution_count": 23,
      "outputs": []
    },
    {
      "cell_type": "code",
      "source": [
        "prompt_list = []\n",
        "ppo_list = []\n",
        "for dictionary in cat_to_dict1:\n",
        "  each_list = dictionary['book_list']\n",
        "  for book in each_list:\n",
        "    if book['author'] != '없음':\n",
        "      prompt = book['author'] + \"가 쓴 책 추천해 줘\"\n",
        "      completion = book['author'] + \"가 쓴 책으로는 \" + book['title'] + \"을 추천합니다. \"\n",
        "      completion = \"이 책은 \" + book['cat_2'] + \"에 관한 책입니다. \"\n",
        "      if book['introduction'] != '없음':\n",
        "        completion += book['title'] + \"은 \" + book['introduction'] + \" 이러한 이유로 이 책을 추천합니다. \"\n",
        "      completion += \"즐거운 독서 되세요!\"\n",
        "      prompt_dict = {}\n",
        "      prompt_dict['prompt'] = prompt\n",
        "      prompt_dict['completion'] = completion\n",
        "      prompt_list.append(prompt_dict)\n",
        "      ppo_list.append(prompt)\n",
        "\n",
        "for dictionary in cat_to_dict2:\n",
        "  each_list = dictionary['book_list']\n",
        "  i = 0\n",
        "  prompt = \"\"\n",
        "  completion = \"\"\n",
        "  for book in each_list:\n",
        "    i = i + 1\n",
        "    if book['cat_3'] != '없음':\n",
        "      prompt = book['cat_3'] + \"에 대한 책 추천해 줘\"\n",
        "      completion += str(i) + \". \" + book['title'] + \". \"\n",
        "      if book['author'] != '없음':\n",
        "        completion += book['title'] + \"은 \" + book['author'] + \"가 쓴 책입니다. \"\n",
        "      if book['introduction'] != \"없음\":\n",
        "        completion += book['title'] + \"은 \" + book['introduction'][:150] + \" \"\n",
        "    if i == 3:\n",
        "      completion += \"이러한 책들을 추천합니다. 즐거운 독서 되세요!\"\n",
        "      break\n",
        "  prompt_dict = {}\n",
        "  prompt_dict['prompt'] = prompt\n",
        "  prompt_dict['completion'] = completion\n",
        "  prompt_list.append(prompt_dict)\n",
        "  ppo_list.append(prompt)"
      ],
      "metadata": {
        "id": "obYEqn_DASkk"
      },
      "execution_count": null,
      "outputs": []
    },
    {
      "cell_type": "code",
      "source": [
        "ppo_list"
      ],
      "metadata": {
        "id": "8eExRybq1_O4"
      },
      "execution_count": null,
      "outputs": []
    },
    {
      "cell_type": "code",
      "source": [
        "with open('ppo_prompt.txt', 'w') as file:\n",
        "    # Step 2: Convert the list to a string representation\n",
        "    list_str = str(ppo_list)\n",
        "\n",
        "    # Step 3: Write the string representation to the file\n",
        "    file.write(list_str)"
      ],
      "metadata": {
        "id": "LNiYLyp04ONT"
      },
      "execution_count": null,
      "outputs": []
    },
    {
      "cell_type": "code",
      "source": [
        "prompt_list[-1]"
      ],
      "metadata": {
        "colab": {
          "base_uri": "https://localhost:8080/"
        },
        "id": "PVUmbI2BwuTS",
        "outputId": "d7b37375-04f4-4723-c5c5-3e05364c6926"
      },
      "execution_count": null,
      "outputs": [
        {
          "output_type": "execute_result",
          "data": {
            "text/plain": [
              "{'prompt': '자동차에 대한 책 추천해 줘',\n",
              " 'completion': '1. 더클래스. 더클래스은 더클래스효성 편집부가 쓴 책입니다. 더클래스은 더클래스 효성에서 발간하는 계간지 는 벤츠 고객의 품격과 명성에 걸맞은 Premium Lifestyle과 벤츠 오너라면 누구에게나 필요한 올바르고 합리적인 자동차 메인터넌스 정보, 꼭 알아야 할 자동차 및 생활, 문화, 여행 정보 등 벤츠 오너들의 생생한 경험과 이야기 2. 라이드 매거진. 라이드 매거진은 라이더컴퍼니 편집부가 쓴 책입니다. 라이드 매거진은 라이드컴퍼니에서 발행한 월간 라이드매거진은 국내 최고의 전통과 권위를 자랑하는 모터사이크 전문 잡지이다. 3. 오토모티브 일렉트로닉 매거진 AEM. 오토모티브 일렉트로닉 매거진 AEM은 스마트앤컴퍼니 편집부가 쓴 책입니다. 오토모티브 일렉트로닉 매거진 AEM은 automotive electronics magazine 이러한 책들을 추천합니다. 즐거운 독서 되세요!'}"
            ]
          },
          "metadata": {},
          "execution_count": 106
        }
      ]
    },
    {
      "cell_type": "code",
      "source": [
        "len(prompt_list)"
      ],
      "metadata": {
        "colab": {
          "base_uri": "https://localhost:8080/"
        },
        "id": "8gLQIvT33y8U",
        "outputId": "83a2a4d7-868c-4d78-f320-97dccec31ac7"
      },
      "execution_count": 24,
      "outputs": [
        {
          "output_type": "execute_result",
          "data": {
            "text/plain": [
              "8730"
            ]
          },
          "metadata": {},
          "execution_count": 24
        }
      ]
    },
    {
      "cell_type": "code",
      "source": [
        "import re\n",
        "\n",
        "for dictionary in prompt_list:\n",
        "  completion = dictionary['completion']\n",
        "  completion = completion.replace(\"그리고 없음\", \"\")\n",
        "  completion = completion.replace(\"<br>\", \"\")\n",
        "  completion = completion.replace(\"<BR>\", \"\")\n",
        "  completion = completion.replace('\\\\', '')\n",
        "  completion = completion.replace(\"▶\", \"\")\n",
        "  completion = completion.replace(\"···\", \"\")\n",
        "  completion = completion.replace(\"[양장본]\", \"\")\n",
        "  completion = re.sub(r\"\\s+\", \" \", completion)\n",
        "  dictionary['completion'] = completion"
      ],
      "metadata": {
        "id": "SgvyjECuCj6J"
      },
      "execution_count": 25,
      "outputs": []
    },
    {
      "cell_type": "code",
      "source": [
        "prompt_list[0]"
      ],
      "metadata": {
        "colab": {
          "base_uri": "https://localhost:8080/"
        },
        "id": "3y__ktWZaNuV",
        "outputId": "d99c9f42-78b7-4c72-dcaf-3153ac452a9e"
      },
      "execution_count": 27,
      "outputs": [
        {
          "output_type": "execute_result",
          "data": {
            "text/plain": [
              "{'prompt': '허정이 쓴 책 추천해 줘',\n",
              " 'completion': \"허정이 쓴 책으로는 아함경: 재가자 편을 추천합니다. 이 책은 불교에 관한 책입니다. 아함경: 재가자 편은 『아함경: 재가자 편』은 우리가 알아야 할 부처님 말씀 '잡아함' 중에서 주로 재가신도를 위한 경을 주제별로 가려엮은 한글 아함경이다. 아함경은 부처님의 인간미에 가깝고 대ㆍ소승의 구별도 보이지 않는 불교의 근본이 되는 가르침을 기록한 경전이다. 이러한 이유로 이 책을 추천합니다. 즐거운 독서 되세요!\"}"
            ]
          },
          "metadata": {},
          "execution_count": 27
        }
      ]
    },
    {
      "cell_type": "code",
      "source": [
        "with open(\"sft_data.json\", \"w\", encoding=\"utf8\") as json_file:\n",
        "    json.dump(prompt_list, json_file, ensure_ascii=False)"
      ],
      "metadata": {
        "id": "56q3se1ECom7"
      },
      "execution_count": 28,
      "outputs": []
    },
    {
      "cell_type": "markdown",
      "source": [
        "**RM 데이터 형식 새로 만들기**"
      ],
      "metadata": {
        "id": "EI5kl8CgAfNQ"
      }
    },
    {
      "cell_type": "code",
      "source": [
        "with open('/content/drive/MyDrive/SCM_books/rm_dataset.json', \"r\", encoding='utf-8') as json_file:\n",
        "    data = json.load(json_file)"
      ],
      "metadata": {
        "id": "6gK-0SSmAh4e"
      },
      "execution_count": null,
      "outputs": []
    },
    {
      "cell_type": "code",
      "source": [
        "data[0]"
      ],
      "metadata": {
        "colab": {
          "base_uri": "https://localhost:8080/"
        },
        "id": "z41nm08WA1bt",
        "outputId": "7a9f2f46-3269-446e-e821-d640d3fc6f6e"
      },
      "execution_count": null,
      "outputs": [
        {
          "output_type": "execute_result",
          "data": {
            "text/plain": [
              "{'prompt': '초등학생이 읽을 만한 책 추천해 줘',\n",
              " 'completion_0': '\\n\\n1. 바나나 같은 나영어 시 by 백혜선  \\n2. 별빛 소녀 엘레나 by 강이채  \\n3. 좋은 은사에 샤워하라! by 이하늬  \\n4. 여우 라인 by 배시  \\n5. 별빛 나무에 들어간 라이트 by 김해린  \\n6. 개에게서 배운 책 by 이마리  \\n7. 화학 소녀의 모든 것 by 윤석희',\n",
              " 'completion_1': \"1. '으라차차 와이키키' 시리즈 - 김수현 작가\\n2. '빨간 머리 앤' 시리즈 - L.M. 몽고메리 작가\\n3. '공룡 100%' 시리즈 - 피터 마일즈 작가\\n4. '누구나 인생에 실패할 수밖에 없다' - 홍성욱 작가\\n5. '사랑은 미친짓이다' - 김지혜 작가\\n6. '나의 머니 북' 시리즈 - 강주현 작가\\n7. '초등 영어 동화' 시리즈 - 트랜스미디어 작가\\n8. '우리 아이의 손맛 레시피' - 송영주 작가\\n9. '태극기가 휘날리며' 시리즈 - 이준혁 작가\\n10. '그래서 하루는 달빛이 비쳤다' - 권주현 작가\",\n",
              " 'completion_2': '요\\n\\n초등학생이 읽을 만한 책에서 가장 잘 읽을 수 있는 책이 있습니다. 그리고 이 책을 기반으로 학생에게 하는 경험이 더 높은 책임을 갖고 있는 책입니다.',\n",
              " 'ranking': ['2', '1', '3']}"
            ]
          },
          "metadata": {},
          "execution_count": 3
        }
      ]
    },
    {
      "cell_type": "code",
      "source": [
        "with open('/content/drive/MyDrive/SCM_books/SFT_book_recommendation_prompt_revised_no_titleauthor.json', \"r\", encoding='utf-8') as json_file:\n",
        "    data = json.load(json_file)"
      ],
      "metadata": {
        "id": "ajyP1wuyCEjR"
      },
      "execution_count": null,
      "outputs": []
    },
    {
      "cell_type": "code",
      "source": [
        "data[0]"
      ],
      "metadata": {
        "colab": {
          "base_uri": "https://localhost:8080/"
        },
        "id": "qc19TK0CCHz3",
        "outputId": "2469f7a5-4ded-45a0-9173-7e117dd897b3"
      },
      "execution_count": null,
      "outputs": [
        {
          "output_type": "execute_result",
          "data": {
            "text/plain": [
              "{'prompt': 'book_recommendation: {input에 주어진 책 정보와 사용자 질의를 바탕으로 그 책을 추천한 사유를 생성해줘}',\n",
              " 'input': 'user_query: {초등학생들이 재미있게 읽을 수 있는 조류의 생태에 대해 다룬 이야기를 읽을 수 있는 책을 추천해주세요.}, book: {title: [조류 세계에서 살아남기 1-2권 세트], author: [곰돌이 co.], introduction: [조류 세계에서 살아남기 1~2권 세트는 새들의 섬으로 간 지오가 하늘을 나는 탐조복을 입고 새들과 벌이는 모험 이야기입니다. 흥미진진한 모험 속에 참매나 흰꼬리수리 같은 맹금류부터 주위에서 보기 드문 키위나 바우어 새에 이르기까지 다양한 조류들이 등장합니다. 주인공들이 온갖 새들과 맞서는 과정을 통해 조류의 특징과 생태에 대해 배워봅니다. 한층 더 업그레이드된 재미와 정보, 생생한 이야기를 친근하고 역동적인 그림을 통해 만나 보세요!]}',\n",
              " 'completion': '- 이 책은 초등학생들이 재미있게 읽을 수 있는 조류의 생태에 대해 다룬 이야기로 구성되어 있습니다. 주인공들이 다양한 조류들과 모험을 벌이는 과정을 통해 새들의 특징과 생태를 쉽게 배울 수 있습니다. 이 책은 생생한 그림과 역동적인 이야기를 통해 초등학생들이 흥미를 느끼며 독서를 할 수 있도록 제작되었습니다.'}"
            ]
          },
          "metadata": {},
          "execution_count": 6
        }
      ]
    }
  ]
}